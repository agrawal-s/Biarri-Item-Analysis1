{
 "cells": [
  {
   "cell_type": "code",
   "execution_count": 14,
   "metadata": {},
   "outputs": [],
   "source": [
    "import pandas as pd\n",
    "import seaborn as sns\n",
    "import numpy as np\n",
    "import matplotlib.pyplot as plt\n"
   ]
  },
  {
   "cell_type": "code",
   "execution_count": 15,
   "metadata": {},
   "outputs": [],
   "source": [
    "df = pd.read_excel('online_merged.xlsx', sheet_name='merged')"
   ]
  },
  {
   "cell_type": "code",
   "execution_count": 16,
   "metadata": {},
   "outputs": [
    {
     "data": {
      "text/html": [
       "<div>\n",
       "<style scoped>\n",
       "    .dataframe tbody tr th:only-of-type {\n",
       "        vertical-align: middle;\n",
       "    }\n",
       "\n",
       "    .dataframe tbody tr th {\n",
       "        vertical-align: top;\n",
       "    }\n",
       "\n",
       "    .dataframe thead th {\n",
       "        text-align: right;\n",
       "    }\n",
       "</style>\n",
       "<table border=\"1\" class=\"dataframe\">\n",
       "  <thead>\n",
       "    <tr style=\"text-align: right;\">\n",
       "      <th></th>\n",
       "      <th>Invoice</th>\n",
       "      <th>StockCode</th>\n",
       "      <th>Description</th>\n",
       "      <th>Quantity</th>\n",
       "      <th>InvoiceDate</th>\n",
       "      <th>Price</th>\n",
       "      <th>Customer ID</th>\n",
       "      <th>Country</th>\n",
       "    </tr>\n",
       "  </thead>\n",
       "  <tbody>\n",
       "    <tr>\n",
       "      <th>0</th>\n",
       "      <td>493414</td>\n",
       "      <td>21844</td>\n",
       "      <td>RETRO SPOT MUG</td>\n",
       "      <td>36</td>\n",
       "      <td>2010-01-04 10:28:00</td>\n",
       "      <td>2.55</td>\n",
       "      <td>14590</td>\n",
       "      <td>United Kingdom</td>\n",
       "    </tr>\n",
       "    <tr>\n",
       "      <th>1</th>\n",
       "      <td>493414</td>\n",
       "      <td>21533</td>\n",
       "      <td>RETRO SPOT LARGE MILK JUG</td>\n",
       "      <td>12</td>\n",
       "      <td>2010-01-04 10:28:00</td>\n",
       "      <td>4.25</td>\n",
       "      <td>14590</td>\n",
       "      <td>United Kingdom</td>\n",
       "    </tr>\n",
       "    <tr>\n",
       "      <th>2</th>\n",
       "      <td>493414</td>\n",
       "      <td>37508</td>\n",
       "      <td>NEW ENGLAND CERAMIC CAKE SERVER</td>\n",
       "      <td>2</td>\n",
       "      <td>2010-01-04 10:28:00</td>\n",
       "      <td>2.55</td>\n",
       "      <td>14590</td>\n",
       "      <td>United Kingdom</td>\n",
       "    </tr>\n",
       "    <tr>\n",
       "      <th>3</th>\n",
       "      <td>493414</td>\n",
       "      <td>35001G</td>\n",
       "      <td>HAND OPEN SHAPE GOLD</td>\n",
       "      <td>2</td>\n",
       "      <td>2010-01-04 10:28:00</td>\n",
       "      <td>4.25</td>\n",
       "      <td>14590</td>\n",
       "      <td>United Kingdom</td>\n",
       "    </tr>\n",
       "    <tr>\n",
       "      <th>4</th>\n",
       "      <td>493414</td>\n",
       "      <td>21527</td>\n",
       "      <td>RETRO SPOT TRADITIONAL TEAPOT</td>\n",
       "      <td>12</td>\n",
       "      <td>2010-01-04 10:28:00</td>\n",
       "      <td>6.95</td>\n",
       "      <td>14590</td>\n",
       "      <td>United Kingdom</td>\n",
       "    </tr>\n",
       "  </tbody>\n",
       "</table>\n",
       "</div>"
      ],
      "text/plain": [
       "   Invoice StockCode                      Description  Quantity  \\\n",
       "0   493414     21844                   RETRO SPOT MUG        36   \n",
       "1   493414     21533        RETRO SPOT LARGE MILK JUG        12   \n",
       "2   493414     37508  NEW ENGLAND CERAMIC CAKE SERVER         2   \n",
       "3   493414    35001G             HAND OPEN SHAPE GOLD         2   \n",
       "4   493414     21527   RETRO SPOT TRADITIONAL TEAPOT         12   \n",
       "\n",
       "          InvoiceDate  Price  Customer ID         Country  \n",
       "0 2010-01-04 10:28:00   2.55        14590  United Kingdom  \n",
       "1 2010-01-04 10:28:00   4.25        14590  United Kingdom  \n",
       "2 2010-01-04 10:28:00   2.55        14590  United Kingdom  \n",
       "3 2010-01-04 10:28:00   4.25        14590  United Kingdom  \n",
       "4 2010-01-04 10:28:00   6.95        14590  United Kingdom  "
      ]
     },
     "execution_count": 16,
     "metadata": {},
     "output_type": "execute_result"
    }
   ],
   "source": [
    "df.head()"
   ]
  },
  {
   "cell_type": "code",
   "execution_count": 17,
   "metadata": {},
   "outputs": [
    {
     "data": {
      "text/html": [
       "<div>\n",
       "<style scoped>\n",
       "    .dataframe tbody tr th:only-of-type {\n",
       "        vertical-align: middle;\n",
       "    }\n",
       "\n",
       "    .dataframe tbody tr th {\n",
       "        vertical-align: top;\n",
       "    }\n",
       "\n",
       "    .dataframe thead th {\n",
       "        text-align: right;\n",
       "    }\n",
       "</style>\n",
       "<table border=\"1\" class=\"dataframe\">\n",
       "  <thead>\n",
       "    <tr style=\"text-align: right;\">\n",
       "      <th></th>\n",
       "      <th>Invoice</th>\n",
       "      <th>Quantity</th>\n",
       "      <th>Price</th>\n",
       "      <th>Customer ID</th>\n",
       "    </tr>\n",
       "  </thead>\n",
       "  <tbody>\n",
       "    <tr>\n",
       "      <th>count</th>\n",
       "      <td>770692.000000</td>\n",
       "      <td>770692.000000</td>\n",
       "      <td>770692.000000</td>\n",
       "      <td>770692.000000</td>\n",
       "    </tr>\n",
       "    <tr>\n",
       "      <th>mean</th>\n",
       "      <td>539271.351953</td>\n",
       "      <td>13.286099</td>\n",
       "      <td>2.993243</td>\n",
       "      <td>15327.973197</td>\n",
       "    </tr>\n",
       "    <tr>\n",
       "      <th>std</th>\n",
       "      <td>25509.968171</td>\n",
       "      <td>146.100973</td>\n",
       "      <td>11.160934</td>\n",
       "      <td>1696.651545</td>\n",
       "    </tr>\n",
       "    <tr>\n",
       "      <th>min</th>\n",
       "      <td>493414.000000</td>\n",
       "      <td>1.000000</td>\n",
       "      <td>0.001000</td>\n",
       "      <td>12346.000000</td>\n",
       "    </tr>\n",
       "    <tr>\n",
       "      <th>25%</th>\n",
       "      <td>517964.000000</td>\n",
       "      <td>2.000000</td>\n",
       "      <td>1.250000</td>\n",
       "      <td>13975.000000</td>\n",
       "    </tr>\n",
       "    <tr>\n",
       "      <th>50%</th>\n",
       "      <td>537868.000000</td>\n",
       "      <td>5.000000</td>\n",
       "      <td>1.950000</td>\n",
       "      <td>15260.000000</td>\n",
       "    </tr>\n",
       "    <tr>\n",
       "      <th>75%</th>\n",
       "      <td>562460.000000</td>\n",
       "      <td>12.000000</td>\n",
       "      <td>3.750000</td>\n",
       "      <td>16800.000000</td>\n",
       "    </tr>\n",
       "    <tr>\n",
       "      <th>max</th>\n",
       "      <td>581587.000000</td>\n",
       "      <td>80995.000000</td>\n",
       "      <td>8142.750000</td>\n",
       "      <td>18287.000000</td>\n",
       "    </tr>\n",
       "  </tbody>\n",
       "</table>\n",
       "</div>"
      ],
      "text/plain": [
       "             Invoice       Quantity          Price    Customer ID\n",
       "count  770692.000000  770692.000000  770692.000000  770692.000000\n",
       "mean   539271.351953      13.286099       2.993243   15327.973197\n",
       "std     25509.968171     146.100973      11.160934    1696.651545\n",
       "min    493414.000000       1.000000       0.001000   12346.000000\n",
       "25%    517964.000000       2.000000       1.250000   13975.000000\n",
       "50%    537868.000000       5.000000       1.950000   15260.000000\n",
       "75%    562460.000000      12.000000       3.750000   16800.000000\n",
       "max    581587.000000   80995.000000    8142.750000   18287.000000"
      ]
     },
     "execution_count": 17,
     "metadata": {},
     "output_type": "execute_result"
    }
   ],
   "source": [
    "\n",
    "df.describe()\n"
   ]
  },
  {
   "cell_type": "code",
   "execution_count": 18,
   "metadata": {},
   "outputs": [
    {
     "data": {
      "text/html": [
       "<div>\n",
       "<style scoped>\n",
       "    .dataframe tbody tr th:only-of-type {\n",
       "        vertical-align: middle;\n",
       "    }\n",
       "\n",
       "    .dataframe tbody tr th {\n",
       "        vertical-align: top;\n",
       "    }\n",
       "\n",
       "    .dataframe thead th {\n",
       "        text-align: right;\n",
       "    }\n",
       "</style>\n",
       "<table border=\"1\" class=\"dataframe\">\n",
       "  <thead>\n",
       "    <tr style=\"text-align: right;\">\n",
       "      <th></th>\n",
       "      <th>Invoice</th>\n",
       "      <th>StockCode</th>\n",
       "      <th>Description</th>\n",
       "      <th>Quantity</th>\n",
       "      <th>InvoiceDate</th>\n",
       "      <th>Price</th>\n",
       "      <th>Customer ID</th>\n",
       "      <th>Country</th>\n",
       "    </tr>\n",
       "  </thead>\n",
       "  <tbody>\n",
       "    <tr>\n",
       "      <th>0</th>\n",
       "      <td>493414</td>\n",
       "      <td>21844</td>\n",
       "      <td>RETRO SPOT MUG</td>\n",
       "      <td>36</td>\n",
       "      <td>2010-01-04 10:28:00</td>\n",
       "      <td>2.55</td>\n",
       "      <td>14590</td>\n",
       "      <td>United Kingdom</td>\n",
       "    </tr>\n",
       "    <tr>\n",
       "      <th>1</th>\n",
       "      <td>493414</td>\n",
       "      <td>21533</td>\n",
       "      <td>RETRO SPOT LARGE MILK JUG</td>\n",
       "      <td>12</td>\n",
       "      <td>2010-01-04 10:28:00</td>\n",
       "      <td>4.25</td>\n",
       "      <td>14590</td>\n",
       "      <td>United Kingdom</td>\n",
       "    </tr>\n",
       "    <tr>\n",
       "      <th>2</th>\n",
       "      <td>493414</td>\n",
       "      <td>37508</td>\n",
       "      <td>NEW ENGLAND CERAMIC CAKE SERVER</td>\n",
       "      <td>2</td>\n",
       "      <td>2010-01-04 10:28:00</td>\n",
       "      <td>2.55</td>\n",
       "      <td>14590</td>\n",
       "      <td>United Kingdom</td>\n",
       "    </tr>\n",
       "    <tr>\n",
       "      <th>3</th>\n",
       "      <td>493414</td>\n",
       "      <td>35001G</td>\n",
       "      <td>HAND OPEN SHAPE GOLD</td>\n",
       "      <td>2</td>\n",
       "      <td>2010-01-04 10:28:00</td>\n",
       "      <td>4.25</td>\n",
       "      <td>14590</td>\n",
       "      <td>United Kingdom</td>\n",
       "    </tr>\n",
       "    <tr>\n",
       "      <th>4</th>\n",
       "      <td>493414</td>\n",
       "      <td>21527</td>\n",
       "      <td>RETRO SPOT TRADITIONAL TEAPOT</td>\n",
       "      <td>12</td>\n",
       "      <td>2010-01-04 10:28:00</td>\n",
       "      <td>6.95</td>\n",
       "      <td>14590</td>\n",
       "      <td>United Kingdom</td>\n",
       "    </tr>\n",
       "  </tbody>\n",
       "</table>\n",
       "</div>"
      ],
      "text/plain": [
       "   Invoice StockCode                      Description  Quantity  \\\n",
       "0   493414     21844                   RETRO SPOT MUG        36   \n",
       "1   493414     21533        RETRO SPOT LARGE MILK JUG        12   \n",
       "2   493414     37508  NEW ENGLAND CERAMIC CAKE SERVER         2   \n",
       "3   493414    35001G             HAND OPEN SHAPE GOLD         2   \n",
       "4   493414     21527   RETRO SPOT TRADITIONAL TEAPOT         12   \n",
       "\n",
       "          InvoiceDate  Price  Customer ID         Country  \n",
       "0 2010-01-04 10:28:00   2.55        14590  United Kingdom  \n",
       "1 2010-01-04 10:28:00   4.25        14590  United Kingdom  \n",
       "2 2010-01-04 10:28:00   2.55        14590  United Kingdom  \n",
       "3 2010-01-04 10:28:00   4.25        14590  United Kingdom  \n",
       "4 2010-01-04 10:28:00   6.95        14590  United Kingdom  "
      ]
     },
     "execution_count": 18,
     "metadata": {},
     "output_type": "execute_result"
    }
   ],
   "source": [
    "\n",
    "df1 = df\n",
    "df1.head()"
   ]
  },
  {
   "cell_type": "code",
   "execution_count": 19,
   "metadata": {},
   "outputs": [
    {
     "data": {
      "text/html": [
       "<div>\n",
       "<style scoped>\n",
       "    .dataframe tbody tr th:only-of-type {\n",
       "        vertical-align: middle;\n",
       "    }\n",
       "\n",
       "    .dataframe tbody tr th {\n",
       "        vertical-align: top;\n",
       "    }\n",
       "\n",
       "    .dataframe thead th {\n",
       "        text-align: right;\n",
       "    }\n",
       "</style>\n",
       "<table border=\"1\" class=\"dataframe\">\n",
       "  <thead>\n",
       "    <tr style=\"text-align: right;\">\n",
       "      <th></th>\n",
       "      <th>Invoice</th>\n",
       "      <th>Quantity</th>\n",
       "      <th>Price</th>\n",
       "      <th>Customer ID</th>\n",
       "    </tr>\n",
       "  </thead>\n",
       "  <tbody>\n",
       "    <tr>\n",
       "      <th>count</th>\n",
       "      <td>770692.000000</td>\n",
       "      <td>770692.000000</td>\n",
       "      <td>770692.000000</td>\n",
       "      <td>770692.000000</td>\n",
       "    </tr>\n",
       "    <tr>\n",
       "      <th>mean</th>\n",
       "      <td>539271.351953</td>\n",
       "      <td>13.286099</td>\n",
       "      <td>2.993243</td>\n",
       "      <td>15327.973197</td>\n",
       "    </tr>\n",
       "    <tr>\n",
       "      <th>std</th>\n",
       "      <td>25509.968171</td>\n",
       "      <td>146.100973</td>\n",
       "      <td>11.160934</td>\n",
       "      <td>1696.651545</td>\n",
       "    </tr>\n",
       "    <tr>\n",
       "      <th>min</th>\n",
       "      <td>493414.000000</td>\n",
       "      <td>1.000000</td>\n",
       "      <td>0.001000</td>\n",
       "      <td>12346.000000</td>\n",
       "    </tr>\n",
       "    <tr>\n",
       "      <th>25%</th>\n",
       "      <td>517964.000000</td>\n",
       "      <td>2.000000</td>\n",
       "      <td>1.250000</td>\n",
       "      <td>13975.000000</td>\n",
       "    </tr>\n",
       "    <tr>\n",
       "      <th>50%</th>\n",
       "      <td>537868.000000</td>\n",
       "      <td>5.000000</td>\n",
       "      <td>1.950000</td>\n",
       "      <td>15260.000000</td>\n",
       "    </tr>\n",
       "    <tr>\n",
       "      <th>75%</th>\n",
       "      <td>562460.000000</td>\n",
       "      <td>12.000000</td>\n",
       "      <td>3.750000</td>\n",
       "      <td>16800.000000</td>\n",
       "    </tr>\n",
       "    <tr>\n",
       "      <th>max</th>\n",
       "      <td>581587.000000</td>\n",
       "      <td>80995.000000</td>\n",
       "      <td>8142.750000</td>\n",
       "      <td>18287.000000</td>\n",
       "    </tr>\n",
       "  </tbody>\n",
       "</table>\n",
       "</div>"
      ],
      "text/plain": [
       "             Invoice       Quantity          Price    Customer ID\n",
       "count  770692.000000  770692.000000  770692.000000  770692.000000\n",
       "mean   539271.351953      13.286099       2.993243   15327.973197\n",
       "std     25509.968171     146.100973      11.160934    1696.651545\n",
       "min    493414.000000       1.000000       0.001000   12346.000000\n",
       "25%    517964.000000       2.000000       1.250000   13975.000000\n",
       "50%    537868.000000       5.000000       1.950000   15260.000000\n",
       "75%    562460.000000      12.000000       3.750000   16800.000000\n",
       "max    581587.000000   80995.000000    8142.750000   18287.000000"
      ]
     },
     "execution_count": 19,
     "metadata": {},
     "output_type": "execute_result"
    }
   ],
   "source": [
    "#removing all negative and zero price and quantities\n",
    "df1_price = df1[(df1[['Price','Quantity']] > 0).all(axis=1)]\n",
    "df1.describe()"
   ]
  },
  {
   "cell_type": "code",
   "execution_count": 20,
   "metadata": {},
   "outputs": [
    {
     "data": {
      "text/html": [
       "<div>\n",
       "<style scoped>\n",
       "    .dataframe tbody tr th:only-of-type {\n",
       "        vertical-align: middle;\n",
       "    }\n",
       "\n",
       "    .dataframe tbody tr th {\n",
       "        vertical-align: top;\n",
       "    }\n",
       "\n",
       "    .dataframe thead th {\n",
       "        text-align: right;\n",
       "    }\n",
       "</style>\n",
       "<table border=\"1\" class=\"dataframe\">\n",
       "  <thead>\n",
       "    <tr style=\"text-align: right;\">\n",
       "      <th></th>\n",
       "      <th>Invoice</th>\n",
       "      <th>Quantity</th>\n",
       "      <th>Price</th>\n",
       "      <th>Customer ID</th>\n",
       "    </tr>\n",
       "  </thead>\n",
       "  <tbody>\n",
       "    <tr>\n",
       "      <th>count</th>\n",
       "      <td>693591.000000</td>\n",
       "      <td>693591.000000</td>\n",
       "      <td>693591.000000</td>\n",
       "      <td>693591.000000</td>\n",
       "    </tr>\n",
       "    <tr>\n",
       "      <th>mean</th>\n",
       "      <td>539060.909630</td>\n",
       "      <td>11.939867</td>\n",
       "      <td>2.959358</td>\n",
       "      <td>15555.425506</td>\n",
       "    </tr>\n",
       "    <tr>\n",
       "      <th>std</th>\n",
       "      <td>25557.655087</td>\n",
       "      <td>143.146576</td>\n",
       "      <td>11.567652</td>\n",
       "      <td>1593.988866</td>\n",
       "    </tr>\n",
       "    <tr>\n",
       "      <th>min</th>\n",
       "      <td>493414.000000</td>\n",
       "      <td>1.000000</td>\n",
       "      <td>0.001000</td>\n",
       "      <td>12346.000000</td>\n",
       "    </tr>\n",
       "    <tr>\n",
       "      <th>25%</th>\n",
       "      <td>517665.000000</td>\n",
       "      <td>2.000000</td>\n",
       "      <td>1.250000</td>\n",
       "      <td>14205.000000</td>\n",
       "    </tr>\n",
       "    <tr>\n",
       "      <th>50%</th>\n",
       "      <td>537622.000000</td>\n",
       "      <td>4.000000</td>\n",
       "      <td>1.950000</td>\n",
       "      <td>15555.000000</td>\n",
       "    </tr>\n",
       "    <tr>\n",
       "      <th>75%</th>\n",
       "      <td>562282.000000</td>\n",
       "      <td>12.000000</td>\n",
       "      <td>3.750000</td>\n",
       "      <td>16938.000000</td>\n",
       "    </tr>\n",
       "    <tr>\n",
       "      <th>max</th>\n",
       "      <td>581586.000000</td>\n",
       "      <td>80995.000000</td>\n",
       "      <td>8142.750000</td>\n",
       "      <td>18287.000000</td>\n",
       "    </tr>\n",
       "  </tbody>\n",
       "</table>\n",
       "</div>"
      ],
      "text/plain": [
       "             Invoice       Quantity          Price    Customer ID\n",
       "count  693591.000000  693591.000000  693591.000000  693591.000000\n",
       "mean   539060.909630      11.939867       2.959358   15555.425506\n",
       "std     25557.655087     143.146576      11.567652    1593.988866\n",
       "min    493414.000000       1.000000       0.001000   12346.000000\n",
       "25%    517665.000000       2.000000       1.250000   14205.000000\n",
       "50%    537622.000000       4.000000       1.950000   15555.000000\n",
       "75%    562282.000000      12.000000       3.750000   16938.000000\n",
       "max    581586.000000   80995.000000    8142.750000   18287.000000"
      ]
     },
     "execution_count": 20,
     "metadata": {},
     "output_type": "execute_result"
    }
   ],
   "source": [
    "#taking only uk cases\n",
    "\n",
    "df1_uk = df1_price[(df1_price['Country'] == 'United Kingdom')]\n",
    "df1_uk.describe()"
   ]
  },
  {
   "cell_type": "code",
   "execution_count": 21,
   "metadata": {},
   "outputs": [],
   "source": [
    "import calendar"
   ]
  },
  {
   "cell_type": "code",
   "execution_count": 22,
   "metadata": {},
   "outputs": [],
   "source": [
    "#adding new columns to dataset for EDA\n",
    "\n",
    "#adding new columns to dataset for EDA\n",
    "\n",
    "df1['TotalAmount'] = df1['Quantity'] * df1['Price']\n",
    "df1['InvoiceYear'] = df1['InvoiceDate'].dt.year\n",
    "df1['InvoiceMonth'] = df1['InvoiceDate'].dt.month\n",
    "df1['InvoiceDate_number'] = df1['InvoiceDate'].dt.date\n",
    "df1['InvoiceWeekday'] = df1['InvoiceDate'].dt.day_name()\n",
    "df1['InvoiceYearMonth'] = df1['InvoiceYear'].map(str) + \"-\" + df1['InvoiceMonth'].map(str)"
   ]
  },
  {
   "cell_type": "code",
   "execution_count": 23,
   "metadata": {},
   "outputs": [
    {
     "data": {
      "text/html": [
       "<div>\n",
       "<style scoped>\n",
       "    .dataframe tbody tr th:only-of-type {\n",
       "        vertical-align: middle;\n",
       "    }\n",
       "\n",
       "    .dataframe tbody tr th {\n",
       "        vertical-align: top;\n",
       "    }\n",
       "\n",
       "    .dataframe thead th {\n",
       "        text-align: right;\n",
       "    }\n",
       "</style>\n",
       "<table border=\"1\" class=\"dataframe\">\n",
       "  <thead>\n",
       "    <tr style=\"text-align: right;\">\n",
       "      <th></th>\n",
       "      <th>Invoice</th>\n",
       "      <th>StockCode</th>\n",
       "      <th>Description</th>\n",
       "      <th>Quantity</th>\n",
       "      <th>InvoiceDate</th>\n",
       "      <th>Price</th>\n",
       "      <th>Customer ID</th>\n",
       "      <th>Country</th>\n",
       "      <th>TotalAmount</th>\n",
       "      <th>InvoiceYear</th>\n",
       "      <th>InvoiceMonth</th>\n",
       "      <th>InvoiceDate_number</th>\n",
       "      <th>InvoiceWeekday</th>\n",
       "      <th>InvoiceYearMonth</th>\n",
       "    </tr>\n",
       "  </thead>\n",
       "  <tbody>\n",
       "    <tr>\n",
       "      <th>0</th>\n",
       "      <td>493414</td>\n",
       "      <td>21844</td>\n",
       "      <td>RETRO SPOT MUG</td>\n",
       "      <td>36</td>\n",
       "      <td>2010-01-04 10:28:00</td>\n",
       "      <td>2.55</td>\n",
       "      <td>14590</td>\n",
       "      <td>United Kingdom</td>\n",
       "      <td>91.8</td>\n",
       "      <td>2010</td>\n",
       "      <td>1</td>\n",
       "      <td>2010-01-04</td>\n",
       "      <td>Monday</td>\n",
       "      <td>2010-1</td>\n",
       "    </tr>\n",
       "    <tr>\n",
       "      <th>1</th>\n",
       "      <td>493414</td>\n",
       "      <td>21533</td>\n",
       "      <td>RETRO SPOT LARGE MILK JUG</td>\n",
       "      <td>12</td>\n",
       "      <td>2010-01-04 10:28:00</td>\n",
       "      <td>4.25</td>\n",
       "      <td>14590</td>\n",
       "      <td>United Kingdom</td>\n",
       "      <td>51.0</td>\n",
       "      <td>2010</td>\n",
       "      <td>1</td>\n",
       "      <td>2010-01-04</td>\n",
       "      <td>Monday</td>\n",
       "      <td>2010-1</td>\n",
       "    </tr>\n",
       "    <tr>\n",
       "      <th>2</th>\n",
       "      <td>493414</td>\n",
       "      <td>37508</td>\n",
       "      <td>NEW ENGLAND CERAMIC CAKE SERVER</td>\n",
       "      <td>2</td>\n",
       "      <td>2010-01-04 10:28:00</td>\n",
       "      <td>2.55</td>\n",
       "      <td>14590</td>\n",
       "      <td>United Kingdom</td>\n",
       "      <td>5.1</td>\n",
       "      <td>2010</td>\n",
       "      <td>1</td>\n",
       "      <td>2010-01-04</td>\n",
       "      <td>Monday</td>\n",
       "      <td>2010-1</td>\n",
       "    </tr>\n",
       "    <tr>\n",
       "      <th>3</th>\n",
       "      <td>493414</td>\n",
       "      <td>35001G</td>\n",
       "      <td>HAND OPEN SHAPE GOLD</td>\n",
       "      <td>2</td>\n",
       "      <td>2010-01-04 10:28:00</td>\n",
       "      <td>4.25</td>\n",
       "      <td>14590</td>\n",
       "      <td>United Kingdom</td>\n",
       "      <td>8.5</td>\n",
       "      <td>2010</td>\n",
       "      <td>1</td>\n",
       "      <td>2010-01-04</td>\n",
       "      <td>Monday</td>\n",
       "      <td>2010-1</td>\n",
       "    </tr>\n",
       "    <tr>\n",
       "      <th>4</th>\n",
       "      <td>493414</td>\n",
       "      <td>21527</td>\n",
       "      <td>RETRO SPOT TRADITIONAL TEAPOT</td>\n",
       "      <td>12</td>\n",
       "      <td>2010-01-04 10:28:00</td>\n",
       "      <td>6.95</td>\n",
       "      <td>14590</td>\n",
       "      <td>United Kingdom</td>\n",
       "      <td>83.4</td>\n",
       "      <td>2010</td>\n",
       "      <td>1</td>\n",
       "      <td>2010-01-04</td>\n",
       "      <td>Monday</td>\n",
       "      <td>2010-1</td>\n",
       "    </tr>\n",
       "  </tbody>\n",
       "</table>\n",
       "</div>"
      ],
      "text/plain": [
       "   Invoice StockCode                      Description  Quantity  \\\n",
       "0   493414     21844                   RETRO SPOT MUG        36   \n",
       "1   493414     21533        RETRO SPOT LARGE MILK JUG        12   \n",
       "2   493414     37508  NEW ENGLAND CERAMIC CAKE SERVER         2   \n",
       "3   493414    35001G             HAND OPEN SHAPE GOLD         2   \n",
       "4   493414     21527   RETRO SPOT TRADITIONAL TEAPOT         12   \n",
       "\n",
       "          InvoiceDate  Price  Customer ID         Country  TotalAmount  \\\n",
       "0 2010-01-04 10:28:00   2.55        14590  United Kingdom         91.8   \n",
       "1 2010-01-04 10:28:00   4.25        14590  United Kingdom         51.0   \n",
       "2 2010-01-04 10:28:00   2.55        14590  United Kingdom          5.1   \n",
       "3 2010-01-04 10:28:00   4.25        14590  United Kingdom          8.5   \n",
       "4 2010-01-04 10:28:00   6.95        14590  United Kingdom         83.4   \n",
       "\n",
       "   InvoiceYear  InvoiceMonth InvoiceDate_number InvoiceWeekday  \\\n",
       "0         2010             1         2010-01-04         Monday   \n",
       "1         2010             1         2010-01-04         Monday   \n",
       "2         2010             1         2010-01-04         Monday   \n",
       "3         2010             1         2010-01-04         Monday   \n",
       "4         2010             1         2010-01-04         Monday   \n",
       "\n",
       "  InvoiceYearMonth  \n",
       "0           2010-1  \n",
       "1           2010-1  \n",
       "2           2010-1  \n",
       "3           2010-1  \n",
       "4           2010-1  "
      ]
     },
     "execution_count": 23,
     "metadata": {},
     "output_type": "execute_result"
    }
   ],
   "source": [
    "df1.head()"
   ]
  },
  {
   "cell_type": "code",
   "execution_count": 24,
   "metadata": {},
   "outputs": [
    {
     "data": {
      "text/plain": [
       "35109"
      ]
     },
     "execution_count": 24,
     "metadata": {},
     "output_type": "execute_result"
    }
   ],
   "source": [
    "len(df.Invoice.unique())"
   ]
  },
  {
   "cell_type": "code",
   "execution_count": 25,
   "metadata": {},
   "outputs": [
    {
     "data": {
      "text/html": [
       "<div>\n",
       "<style scoped>\n",
       "    .dataframe tbody tr th:only-of-type {\n",
       "        vertical-align: middle;\n",
       "    }\n",
       "\n",
       "    .dataframe tbody tr th {\n",
       "        vertical-align: top;\n",
       "    }\n",
       "\n",
       "    .dataframe thead th {\n",
       "        text-align: right;\n",
       "    }\n",
       "</style>\n",
       "<table border=\"1\" class=\"dataframe\">\n",
       "  <thead>\n",
       "    <tr style=\"text-align: right;\">\n",
       "      <th></th>\n",
       "      <th>Invoice</th>\n",
       "      <th>Quantity</th>\n",
       "      <th>Price</th>\n",
       "      <th>Customer ID</th>\n",
       "      <th>TotalAmount</th>\n",
       "      <th>InvoiceYear</th>\n",
       "      <th>InvoiceMonth</th>\n",
       "    </tr>\n",
       "  </thead>\n",
       "  <tbody>\n",
       "    <tr>\n",
       "      <th>count</th>\n",
       "      <td>770692.000000</td>\n",
       "      <td>770692.000000</td>\n",
       "      <td>770692.000000</td>\n",
       "      <td>770692.000000</td>\n",
       "      <td>770692.000000</td>\n",
       "      <td>770692.000000</td>\n",
       "      <td>770692.000000</td>\n",
       "    </tr>\n",
       "    <tr>\n",
       "      <th>mean</th>\n",
       "      <td>539271.351953</td>\n",
       "      <td>13.286099</td>\n",
       "      <td>2.993243</td>\n",
       "      <td>15327.973197</td>\n",
       "      <td>21.813453</td>\n",
       "      <td>2010.480305</td>\n",
       "      <td>7.329134</td>\n",
       "    </tr>\n",
       "    <tr>\n",
       "      <th>std</th>\n",
       "      <td>25509.968171</td>\n",
       "      <td>146.100973</td>\n",
       "      <td>11.160934</td>\n",
       "      <td>1696.651545</td>\n",
       "      <td>227.026222</td>\n",
       "      <td>0.499612</td>\n",
       "      <td>3.393817</td>\n",
       "    </tr>\n",
       "    <tr>\n",
       "      <th>min</th>\n",
       "      <td>493414.000000</td>\n",
       "      <td>1.000000</td>\n",
       "      <td>0.001000</td>\n",
       "      <td>12346.000000</td>\n",
       "      <td>0.001000</td>\n",
       "      <td>2010.000000</td>\n",
       "      <td>1.000000</td>\n",
       "    </tr>\n",
       "    <tr>\n",
       "      <th>25%</th>\n",
       "      <td>517964.000000</td>\n",
       "      <td>2.000000</td>\n",
       "      <td>1.250000</td>\n",
       "      <td>13975.000000</td>\n",
       "      <td>4.950000</td>\n",
       "      <td>2010.000000</td>\n",
       "      <td>4.000000</td>\n",
       "    </tr>\n",
       "    <tr>\n",
       "      <th>50%</th>\n",
       "      <td>537868.000000</td>\n",
       "      <td>5.000000</td>\n",
       "      <td>1.950000</td>\n",
       "      <td>15260.000000</td>\n",
       "      <td>11.900000</td>\n",
       "      <td>2010.000000</td>\n",
       "      <td>8.000000</td>\n",
       "    </tr>\n",
       "    <tr>\n",
       "      <th>75%</th>\n",
       "      <td>562460.000000</td>\n",
       "      <td>12.000000</td>\n",
       "      <td>3.750000</td>\n",
       "      <td>16800.000000</td>\n",
       "      <td>19.500000</td>\n",
       "      <td>2011.000000</td>\n",
       "      <td>10.000000</td>\n",
       "    </tr>\n",
       "    <tr>\n",
       "      <th>max</th>\n",
       "      <td>581587.000000</td>\n",
       "      <td>80995.000000</td>\n",
       "      <td>8142.750000</td>\n",
       "      <td>18287.000000</td>\n",
       "      <td>168469.600000</td>\n",
       "      <td>2011.000000</td>\n",
       "      <td>12.000000</td>\n",
       "    </tr>\n",
       "  </tbody>\n",
       "</table>\n",
       "</div>"
      ],
      "text/plain": [
       "             Invoice       Quantity          Price    Customer ID  \\\n",
       "count  770692.000000  770692.000000  770692.000000  770692.000000   \n",
       "mean   539271.351953      13.286099       2.993243   15327.973197   \n",
       "std     25509.968171     146.100973      11.160934    1696.651545   \n",
       "min    493414.000000       1.000000       0.001000   12346.000000   \n",
       "25%    517964.000000       2.000000       1.250000   13975.000000   \n",
       "50%    537868.000000       5.000000       1.950000   15260.000000   \n",
       "75%    562460.000000      12.000000       3.750000   16800.000000   \n",
       "max    581587.000000   80995.000000    8142.750000   18287.000000   \n",
       "\n",
       "         TotalAmount    InvoiceYear   InvoiceMonth  \n",
       "count  770692.000000  770692.000000  770692.000000  \n",
       "mean       21.813453    2010.480305       7.329134  \n",
       "std       227.026222       0.499612       3.393817  \n",
       "min         0.001000    2010.000000       1.000000  \n",
       "25%         4.950000    2010.000000       4.000000  \n",
       "50%        11.900000    2010.000000       8.000000  \n",
       "75%        19.500000    2011.000000      10.000000  \n",
       "max    168469.600000    2011.000000      12.000000  "
      ]
     },
     "execution_count": 25,
     "metadata": {},
     "output_type": "execute_result"
    }
   ],
   "source": [
    "df1.describe()"
   ]
  },
  {
   "cell_type": "code",
   "execution_count": 26,
   "metadata": {},
   "outputs": [
    {
     "data": {
      "text/plain": [
       "35109"
      ]
     },
     "execution_count": 26,
     "metadata": {},
     "output_type": "execute_result"
    }
   ],
   "source": [
    "#finding unique values\n",
    "\n",
    "len(df1['Invoice'].unique())"
   ]
  },
  {
   "cell_type": "code",
   "execution_count": 27,
   "metadata": {},
   "outputs": [
    {
     "data": {
      "text/plain": [
       "4486"
      ]
     },
     "execution_count": 27,
     "metadata": {},
     "output_type": "execute_result"
    }
   ],
   "source": [
    "len(df1['StockCode'].unique())"
   ]
  },
  {
   "cell_type": "code",
   "execution_count": 28,
   "metadata": {},
   "outputs": [
    {
     "data": {
      "text/plain": [
       "5119"
      ]
     },
     "execution_count": 28,
     "metadata": {},
     "output_type": "execute_result"
    }
   ],
   "source": [
    "len(df1['Description'].unique())"
   ]
  },
  {
   "cell_type": "code",
   "execution_count": 29,
   "metadata": {},
   "outputs": [
    {
     "data": {
      "text/plain": [
       "5081"
      ]
     },
     "execution_count": 29,
     "metadata": {},
     "output_type": "execute_result"
    }
   ],
   "source": [
    "len(df1_uk['Description'].unique())"
   ]
  },
  {
   "cell_type": "code",
   "execution_count": 30,
   "metadata": {},
   "outputs": [
    {
     "data": {
      "text/plain": [
       "5762"
      ]
     },
     "execution_count": 30,
     "metadata": {},
     "output_type": "execute_result"
    }
   ],
   "source": [
    "len(df1['Customer ID'].unique())"
   ]
  },
  {
   "cell_type": "code",
   "execution_count": 31,
   "metadata": {},
   "outputs": [
    {
     "data": {
      "text/plain": [
       "Description\n",
       "WHITE HANGING HEART T-LIGHT HOLDER    4710\n",
       "REGENCY CAKESTAND 3 TIER              2958\n",
       "ASSORTED COLOUR BIRD ORNAMENT         2537\n",
       "JUMBO BAG RED RETROSPOT               2476\n",
       "REX CASH+CARRY JUMBO SHOPPER          2011\n",
       "PARTY BUNTING                         1963\n",
       "LUNCH BAG  BLACK SKULL.               1958\n",
       "HEART OF WICKER SMALL                 1848\n",
       "HEART OF WICKER LARGE                 1842\n",
       "HOME BUILDING BLOCK WORD              1784\n",
       "LUNCH BAG SPACEBOY DESIGN             1744\n",
       "WOODEN FRAME ANTIQUE WHITE            1699\n",
       "JUMBO SHOPPER VINTAGE RED PAISLEY     1664\n",
       "LUNCH BAG CARS BLUE                   1659\n",
       "PAPER CHAIN KIT 50'S CHRISTMAS        1654\n",
       "NATURAL SLATE HEART CHALKBOARD        1639\n",
       "60 TEATIME FAIRY CAKE CASES           1631\n",
       "STRAWBERRY CERAMIC TRINKET BOX        1619\n",
       "WOODEN PICTURE FRAME WHITE FINISH     1588\n",
       "JUMBO STORAGE BAG SUKI                1585\n",
       "Name: Invoice, dtype: int64"
      ]
     },
     "execution_count": 31,
     "metadata": {},
     "output_type": "execute_result"
    }
   ],
   "source": [
    "#top items purchased without quantity\n",
    "top_items_1 = df1_uk.groupby('Description').count().sort_values(by = 'Invoice', ascending=False)\n",
    "top_items_1['Invoice'].head(20)"
   ]
  },
  {
   "cell_type": "code",
   "execution_count": 32,
   "metadata": {},
   "outputs": [
    {
     "data": {
      "text/plain": [
       "Description\n",
       "WORLD WAR 2 GLIDERS ASSTD DESIGNS      98161\n",
       "PAPER CRAFT , LITTLE BIRDIE            80995\n",
       "WHITE HANGING HEART T-LIGHT HOLDER     80645\n",
       "MEDIUM CERAMIC TOP STORAGE JAR         76919\n",
       "BROCADE RING PURSE                     69934\n",
       "ASSORTED COLOUR BIRD ORNAMENT          69763\n",
       "JUMBO BAG RED RETROSPOT                69011\n",
       "PACK OF 60 PINK PAISLEY CAKE CASES     44430\n",
       "SMALL POPCORN HOLDER                   40001\n",
       "60 TEATIME FAIRY CAKE CASES            39384\n",
       "PACK OF 12 LONDON TISSUES              36450\n",
       "VICTORIAN GLASS HANGING T-LIGHT        36324\n",
       "COLOUR GLASS T-LIGHT HOLDER HANGING    36182\n",
       "ASSORTED COLOURS SILK FAN              36079\n",
       "JUMBO BAG STRAWBERRY                   33135\n",
       "PACK OF 72 RETROSPOT CAKE CASES        32143\n",
       "PACK OF 72 SKULL CAKE CASES            32137\n",
       "PACK OF 72 RETRO SPOT CAKE CASES       31047\n",
       "RED  HARMONICA IN BOX                  30994\n",
       "GIRLS ALPHABET IRON ON PATCHES         30624\n",
       "Name: Quantity, dtype: int64"
      ]
     },
     "execution_count": 32,
     "metadata": {},
     "output_type": "execute_result"
    }
   ],
   "source": [
    "#top items purchased with quantity\n",
    "top_items = df1_uk.groupby('Description')\n",
    "top_items_frq = top_items['Quantity'].agg(np.sum).sort_values(ascending=False)\n",
    "top_items_frq.head(20)"
   ]
  },
  {
   "cell_type": "code",
   "execution_count": 33,
   "metadata": {},
   "outputs": [
    {
     "ename": "KeyError",
     "evalue": "'InvoiceYear'",
     "output_type": "error",
     "traceback": [
      "\u001b[1;31m---------------------------------------------------------------------------\u001b[0m",
      "\u001b[1;31mKeyError\u001b[0m                                  Traceback (most recent call last)",
      "\u001b[1;32m<ipython-input-33-6a8916dce6a5>\u001b[0m in \u001b[0;36m<module>\u001b[1;34m\u001b[0m\n\u001b[1;32m----> 1\u001b[1;33m \u001b[0mgp_month\u001b[0m \u001b[1;33m=\u001b[0m \u001b[0mdf1_uk\u001b[0m\u001b[1;33m.\u001b[0m\u001b[0msort_values\u001b[0m\u001b[1;33m(\u001b[0m\u001b[1;34m'InvoiceDate'\u001b[0m\u001b[1;33m)\u001b[0m\u001b[1;33m.\u001b[0m\u001b[0mgroupby\u001b[0m\u001b[1;33m(\u001b[0m\u001b[1;33m[\u001b[0m\u001b[1;34m'InvoiceYear'\u001b[0m\u001b[1;33m,\u001b[0m \u001b[1;34m'InvoiceMonth'\u001b[0m\u001b[1;33m]\u001b[0m\u001b[1;33m)\u001b[0m\u001b[1;33m\u001b[0m\u001b[1;33m\u001b[0m\u001b[0m\n\u001b[0m\u001b[0;32m      2\u001b[0m \u001b[0mgp_month_invoices\u001b[0m \u001b[1;33m=\u001b[0m \u001b[0mgp_month\u001b[0m\u001b[1;33m[\u001b[0m\u001b[1;34m'Invoice'\u001b[0m\u001b[1;33m]\u001b[0m\u001b[1;33m.\u001b[0m\u001b[0munique\u001b[0m\u001b[1;33m(\u001b[0m\u001b[1;33m)\u001b[0m\u001b[1;33m.\u001b[0m\u001b[0magg\u001b[0m\u001b[1;33m(\u001b[0m\u001b[0mnp\u001b[0m\u001b[1;33m.\u001b[0m\u001b[0msize\u001b[0m\u001b[1;33m)\u001b[0m\u001b[1;33m\u001b[0m\u001b[1;33m\u001b[0m\u001b[0m\n\u001b[0;32m      3\u001b[0m \u001b[0mgp_month_invoices\u001b[0m\u001b[1;33m\u001b[0m\u001b[1;33m\u001b[0m\u001b[0m\n",
      "\u001b[1;32mD:\\Users\\shree\\anaconda3\\lib\\site-packages\\pandas\\core\\frame.py\u001b[0m in \u001b[0;36mgroupby\u001b[1;34m(self, by, axis, level, as_index, sort, group_keys, squeeze, observed)\u001b[0m\n\u001b[0;32m   5808\u001b[0m             \u001b[0mgroup_keys\u001b[0m\u001b[1;33m=\u001b[0m\u001b[0mgroup_keys\u001b[0m\u001b[1;33m,\u001b[0m\u001b[1;33m\u001b[0m\u001b[1;33m\u001b[0m\u001b[0m\n\u001b[0;32m   5809\u001b[0m             \u001b[0msqueeze\u001b[0m\u001b[1;33m=\u001b[0m\u001b[0msqueeze\u001b[0m\u001b[1;33m,\u001b[0m\u001b[1;33m\u001b[0m\u001b[1;33m\u001b[0m\u001b[0m\n\u001b[1;32m-> 5810\u001b[1;33m             \u001b[0mobserved\u001b[0m\u001b[1;33m=\u001b[0m\u001b[0mobserved\u001b[0m\u001b[1;33m,\u001b[0m\u001b[1;33m\u001b[0m\u001b[1;33m\u001b[0m\u001b[0m\n\u001b[0m\u001b[0;32m   5811\u001b[0m         )\n\u001b[0;32m   5812\u001b[0m \u001b[1;33m\u001b[0m\u001b[0m\n",
      "\u001b[1;32mD:\\Users\\shree\\anaconda3\\lib\\site-packages\\pandas\\core\\groupby\\groupby.py\u001b[0m in \u001b[0;36m__init__\u001b[1;34m(self, obj, keys, axis, level, grouper, exclusions, selection, as_index, sort, group_keys, squeeze, observed, mutated)\u001b[0m\n\u001b[0;32m    407\u001b[0m                 \u001b[0msort\u001b[0m\u001b[1;33m=\u001b[0m\u001b[0msort\u001b[0m\u001b[1;33m,\u001b[0m\u001b[1;33m\u001b[0m\u001b[1;33m\u001b[0m\u001b[0m\n\u001b[0;32m    408\u001b[0m                 \u001b[0mobserved\u001b[0m\u001b[1;33m=\u001b[0m\u001b[0mobserved\u001b[0m\u001b[1;33m,\u001b[0m\u001b[1;33m\u001b[0m\u001b[1;33m\u001b[0m\u001b[0m\n\u001b[1;32m--> 409\u001b[1;33m                 \u001b[0mmutated\u001b[0m\u001b[1;33m=\u001b[0m\u001b[0mself\u001b[0m\u001b[1;33m.\u001b[0m\u001b[0mmutated\u001b[0m\u001b[1;33m,\u001b[0m\u001b[1;33m\u001b[0m\u001b[1;33m\u001b[0m\u001b[0m\n\u001b[0m\u001b[0;32m    410\u001b[0m             )\n\u001b[0;32m    411\u001b[0m \u001b[1;33m\u001b[0m\u001b[0m\n",
      "\u001b[1;32mD:\\Users\\shree\\anaconda3\\lib\\site-packages\\pandas\\core\\groupby\\grouper.py\u001b[0m in \u001b[0;36mget_grouper\u001b[1;34m(obj, key, axis, level, sort, observed, mutated, validate)\u001b[0m\n\u001b[0;32m    596\u001b[0m                 \u001b[0min_axis\u001b[0m\u001b[1;33m,\u001b[0m \u001b[0mname\u001b[0m\u001b[1;33m,\u001b[0m \u001b[0mlevel\u001b[0m\u001b[1;33m,\u001b[0m \u001b[0mgpr\u001b[0m \u001b[1;33m=\u001b[0m \u001b[1;32mFalse\u001b[0m\u001b[1;33m,\u001b[0m \u001b[1;32mNone\u001b[0m\u001b[1;33m,\u001b[0m \u001b[0mgpr\u001b[0m\u001b[1;33m,\u001b[0m \u001b[1;32mNone\u001b[0m\u001b[1;33m\u001b[0m\u001b[1;33m\u001b[0m\u001b[0m\n\u001b[0;32m    597\u001b[0m             \u001b[1;32melse\u001b[0m\u001b[1;33m:\u001b[0m\u001b[1;33m\u001b[0m\u001b[1;33m\u001b[0m\u001b[0m\n\u001b[1;32m--> 598\u001b[1;33m                 \u001b[1;32mraise\u001b[0m \u001b[0mKeyError\u001b[0m\u001b[1;33m(\u001b[0m\u001b[0mgpr\u001b[0m\u001b[1;33m)\u001b[0m\u001b[1;33m\u001b[0m\u001b[1;33m\u001b[0m\u001b[0m\n\u001b[0m\u001b[0;32m    599\u001b[0m         \u001b[1;32melif\u001b[0m \u001b[0misinstance\u001b[0m\u001b[1;33m(\u001b[0m\u001b[0mgpr\u001b[0m\u001b[1;33m,\u001b[0m \u001b[0mGrouper\u001b[0m\u001b[1;33m)\u001b[0m \u001b[1;32mand\u001b[0m \u001b[0mgpr\u001b[0m\u001b[1;33m.\u001b[0m\u001b[0mkey\u001b[0m \u001b[1;32mis\u001b[0m \u001b[1;32mnot\u001b[0m \u001b[1;32mNone\u001b[0m\u001b[1;33m:\u001b[0m\u001b[1;33m\u001b[0m\u001b[1;33m\u001b[0m\u001b[0m\n\u001b[0;32m    600\u001b[0m             \u001b[1;31m# Add key to exclusions\u001b[0m\u001b[1;33m\u001b[0m\u001b[1;33m\u001b[0m\u001b[1;33m\u001b[0m\u001b[0m\n",
      "\u001b[1;31mKeyError\u001b[0m: 'InvoiceYear'"
     ]
    }
   ],
   "source": [
    "gp_month = df1_uk.sort_values('InvoiceDate').groupby(['InvoiceYear', 'InvoiceMonth'])\n",
    "gp_month_invoices = gp_month['Invoice'].unique().agg(np.size)\n",
    "gp_month_invoices"
   ]
  },
  {
   "cell_type": "code",
   "execution_count": null,
   "metadata": {},
   "outputs": [],
   "source": [
    "gp_month_invoices.plot.bar()"
   ]
  },
  {
   "cell_type": "markdown",
   "metadata": {},
   "source": [
    "From here on, we'll try to implement data sampling methids. One of the most common sampling methods in businesses is 'Pareto Principle', which states that roughly 20% of the efforts are result in 80 % of the results. In our context, the efforts are done by customers and the results are overall sales caused by each customer. Hence, we will try to identify top 20% of customer ID and create a new dataframe with them. Here we're not using items as the main efforts since some items may be purchased once or may have low impact on sales due to low unit price, but it could be a frequent item. This is just a sampling process to make the Apriori algorithm work faster. "
   ]
  },
  {
   "cell_type": "code",
   "execution_count": null,
   "metadata": {},
   "outputs": [],
   "source": [
    "#Top 20 customers\n",
    "customers_amounts = df1_uk.groupby('Customer ID')['TotalAmount'].agg(np.sum).sort_values(ascending=False)\n",
    "customers_amounts"
   ]
  },
  {
   "cell_type": "code",
   "execution_count": null,
   "metadata": {},
   "outputs": [],
   "source": [
    "\n",
    "top_customers = df1_uk.groupby('Customer ID').agg(np.sum).sort_values(by = 'TotalAmount', ascending=False).reset_index()\n",
    "top_customers['Customer ID']\n",
    "top_10_pcnt = top_customers['Customer ID'].head(int(len(top_customers)*(10/100)))\n",
    "top_10_pcnt"
   ]
  },
  {
   "cell_type": "code",
   "execution_count": null,
   "metadata": {},
   "outputs": [],
   "source": [
    "df2 = df1_uk.loc[df1_uk['Customer ID'].isin(top_10_pcnt)]\n",
    "df2"
   ]
  },
  {
   "cell_type": "code",
   "execution_count": null,
   "metadata": {},
   "outputs": [],
   "source": [
    "print(len(df2['Description'].unique()))\n",
    "print(len(df2['Invoice'].unique()))\n",
    "\n"
   ]
  },
  {
   "cell_type": "code",
   "execution_count": null,
   "metadata": {},
   "outputs": [],
   "source": [
    "from mlxtend.frequent_patterns import apriori, association_rules "
   ]
  },
  {
   "cell_type": "code",
   "execution_count": null,
   "metadata": {},
   "outputs": [],
   "source": [
    "basket = (df2.groupby(['Invoice', 'Description'])['Quantity'] \n",
    "          .sum().unstack().reset_index().fillna(0) \n",
    "          .set_index('Invoice')) "
   ]
  },
  {
   "cell_type": "code",
   "execution_count": null,
   "metadata": {},
   "outputs": [],
   "source": [
    "basket"
   ]
  },
  {
   "cell_type": "code",
   "execution_count": null,
   "metadata": {},
   "outputs": [],
   "source": [
    "def hot_encode(x): \n",
    "    if(x<= 0): \n",
    "        return 0\n",
    "    if(x>= 1): \n",
    "        return 1"
   ]
  },
  {
   "cell_type": "code",
   "execution_count": null,
   "metadata": {},
   "outputs": [],
   "source": [
    "basket_encoded = basket.applymap(hot_encode)"
   ]
  },
  {
   "cell_type": "code",
   "execution_count": null,
   "metadata": {},
   "outputs": [],
   "source": [
    "basket_encoded"
   ]
  },
  {
   "cell_type": "code",
   "execution_count": null,
   "metadata": {},
   "outputs": [],
   "source": [
    "frq_items = apriori(basket_encoded, min_support = 0.02, use_colnames = True) \n",
    "frq_items.sort_values(by = 'support', ascending = False)"
   ]
  },
  {
   "cell_type": "code",
   "execution_count": null,
   "metadata": {},
   "outputs": [],
   "source": [
    "rules = association_rules(frq_items, metric =\"lift\") \n",
    "rules = rules.sort_values(['confidence', 'lift'], ascending =[False, False]) \n",
    "rules.head() \n"
   ]
  },
  {
   "cell_type": "code",
   "execution_count": null,
   "metadata": {},
   "outputs": [],
   "source": [
    "rules.to_csv('rules.csv', index = True, header = True)"
   ]
  },
  {
   "cell_type": "code",
   "execution_count": null,
   "metadata": {},
   "outputs": [],
   "source": [
    "basket.to_csv ('basket.csv', index = True, header=True)"
   ]
  },
  {
   "cell_type": "code",
   "execution_count": null,
   "metadata": {},
   "outputs": [],
   "source": [
    "def edit1(s1, s2):\n",
    "    if len(s1) > len(s2):\n",
    "        s1, s2 = s2, s1\n",
    "\n",
    "    distances = range(len(s1) + 1)\n",
    "    for i2, c2 in enumerate(s2):\n",
    "        distances_ = [i2+1]\n",
    "        for i1, c1 in enumerate(s1):\n",
    "            if c1 == c2:\n",
    "                distances_.append(distances[i1])\n",
    "            else:\n",
    "                distances_.append(1 + min((distances[i1], distances[i1 + 1], distances_[-1])))\n",
    "        distances = distances_\n",
    "    return distances[-1]"
   ]
  },
  {
   "cell_type": "code",
   "execution_count": null,
   "metadata": {},
   "outputs": [],
   "source": [
    "edit1('hellos ','belslo')"
   ]
  },
  {
   "cell_type": "code",
   "execution_count": null,
   "metadata": {},
   "outputs": [],
   "source": [
    "def calculate_ed(string1,string2):\n",
    "    string1 = string1.split()\n",
    "    string2 = string2.split()\n",
    "    distmatrix = [([0]*(len(string2)+1)) for i in range(len(string1)+1)]\n",
    "    \n",
    "    for i in range(0,len(string1)+1):\n",
    "        distmatrix[i][0] = i\n",
    "    for i in range(0,len(string2)+1):\n",
    "        distmatrix[0][i] = i\n",
    "    \n",
    "    for i in range(1,(len(string1)+1)):\n",
    "        #print(i)\n",
    "        for j in range(1,(len(string2)+1)):\n",
    "            if(string1[i-1]==string2[j-1]):\n",
    "                distmatrix[i][j] = distmatrix[i-1][j-1]\n",
    "            else:\n",
    "                distmatrix[i][j] = min(distmatrix[i-1][j] +1 ,distmatrix[i][j-1] +1 ,distmatrix[i-1][j-1] + 1)\n",
    "                \n",
    "    return distmatrix[i][j]\n",
    "print(calculate_ed('shree is awesome','shree is okay i gueess'))"
   ]
  },
  {
   "cell_type": "code",
   "execution_count": null,
   "metadata": {},
   "outputs": [],
   "source": [
    "import os, itertools\n",
    "itemlist = df1['Description'].unique()\n",
    "groups = [list(g) for _, g in itertools.groupby(itemlist, lambda x: x.partition('_')[0])]\n",
    "groups"
   ]
  }
 ],
 "metadata": {
  "kernelspec": {
   "display_name": "Python 3",
   "language": "python",
   "name": "python3"
  },
  "language_info": {
   "codemirror_mode": {
    "name": "ipython",
    "version": 3
   },
   "file_extension": ".py",
   "mimetype": "text/x-python",
   "name": "python",
   "nbconvert_exporter": "python",
   "pygments_lexer": "ipython3",
   "version": "3.7.6"
  }
 },
 "nbformat": 4,
 "nbformat_minor": 4
}
