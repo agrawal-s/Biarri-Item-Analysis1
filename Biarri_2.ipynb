{
 "cells": [
  {
   "cell_type": "code",
   "execution_count": 13,
   "metadata": {},
   "outputs": [],
   "source": [
    "import pandas as pd\n",
    "import seaborn as sns\n",
    "import numpy as np\n",
    "import matplotlib.pyplot as plt\n",
    "from mlxtend.frequent_patterns import apriori, association_rules "
   ]
  },
  {
   "cell_type": "code",
   "execution_count": 2,
   "metadata": {},
   "outputs": [],
   "source": [
    "df = pd.read_excel('online_retail_II.xlsx', sheet_name='Year 2009-2010')"
   ]
  },
  {
   "cell_type": "code",
   "execution_count": 3,
   "metadata": {},
   "outputs": [
    {
     "data": {
      "text/html": [
       "<div>\n",
       "<style scoped>\n",
       "    .dataframe tbody tr th:only-of-type {\n",
       "        vertical-align: middle;\n",
       "    }\n",
       "\n",
       "    .dataframe tbody tr th {\n",
       "        vertical-align: top;\n",
       "    }\n",
       "\n",
       "    .dataframe thead th {\n",
       "        text-align: right;\n",
       "    }\n",
       "</style>\n",
       "<table border=\"1\" class=\"dataframe\">\n",
       "  <thead>\n",
       "    <tr style=\"text-align: right;\">\n",
       "      <th></th>\n",
       "      <th>Invoice</th>\n",
       "      <th>StockCode</th>\n",
       "      <th>Description</th>\n",
       "      <th>Quantity</th>\n",
       "      <th>InvoiceDate</th>\n",
       "      <th>Price</th>\n",
       "      <th>Customer ID</th>\n",
       "      <th>Country</th>\n",
       "    </tr>\n",
       "  </thead>\n",
       "  <tbody>\n",
       "    <tr>\n",
       "      <th>0</th>\n",
       "      <td>489434</td>\n",
       "      <td>85048</td>\n",
       "      <td>15CM CHRISTMAS GLASS BALL 20 LIGHTS</td>\n",
       "      <td>12</td>\n",
       "      <td>2009-12-01 07:45:00</td>\n",
       "      <td>6.95</td>\n",
       "      <td>13085.0</td>\n",
       "      <td>United Kingdom</td>\n",
       "    </tr>\n",
       "    <tr>\n",
       "      <th>1</th>\n",
       "      <td>489434</td>\n",
       "      <td>79323P</td>\n",
       "      <td>PINK CHERRY LIGHTS</td>\n",
       "      <td>12</td>\n",
       "      <td>2009-12-01 07:45:00</td>\n",
       "      <td>6.75</td>\n",
       "      <td>13085.0</td>\n",
       "      <td>United Kingdom</td>\n",
       "    </tr>\n",
       "    <tr>\n",
       "      <th>2</th>\n",
       "      <td>489434</td>\n",
       "      <td>79323W</td>\n",
       "      <td>WHITE CHERRY LIGHTS</td>\n",
       "      <td>12</td>\n",
       "      <td>2009-12-01 07:45:00</td>\n",
       "      <td>6.75</td>\n",
       "      <td>13085.0</td>\n",
       "      <td>United Kingdom</td>\n",
       "    </tr>\n",
       "    <tr>\n",
       "      <th>3</th>\n",
       "      <td>489434</td>\n",
       "      <td>22041</td>\n",
       "      <td>RECORD FRAME 7\" SINGLE SIZE</td>\n",
       "      <td>48</td>\n",
       "      <td>2009-12-01 07:45:00</td>\n",
       "      <td>2.10</td>\n",
       "      <td>13085.0</td>\n",
       "      <td>United Kingdom</td>\n",
       "    </tr>\n",
       "    <tr>\n",
       "      <th>4</th>\n",
       "      <td>489434</td>\n",
       "      <td>21232</td>\n",
       "      <td>STRAWBERRY CERAMIC TRINKET BOX</td>\n",
       "      <td>24</td>\n",
       "      <td>2009-12-01 07:45:00</td>\n",
       "      <td>1.25</td>\n",
       "      <td>13085.0</td>\n",
       "      <td>United Kingdom</td>\n",
       "    </tr>\n",
       "  </tbody>\n",
       "</table>\n",
       "</div>"
      ],
      "text/plain": [
       "  Invoice StockCode                          Description  Quantity  \\\n",
       "0  489434     85048  15CM CHRISTMAS GLASS BALL 20 LIGHTS        12   \n",
       "1  489434    79323P                   PINK CHERRY LIGHTS        12   \n",
       "2  489434    79323W                  WHITE CHERRY LIGHTS        12   \n",
       "3  489434     22041         RECORD FRAME 7\" SINGLE SIZE         48   \n",
       "4  489434     21232       STRAWBERRY CERAMIC TRINKET BOX        24   \n",
       "\n",
       "          InvoiceDate  Price  Customer ID         Country  \n",
       "0 2009-12-01 07:45:00   6.95      13085.0  United Kingdom  \n",
       "1 2009-12-01 07:45:00   6.75      13085.0  United Kingdom  \n",
       "2 2009-12-01 07:45:00   6.75      13085.0  United Kingdom  \n",
       "3 2009-12-01 07:45:00   2.10      13085.0  United Kingdom  \n",
       "4 2009-12-01 07:45:00   1.25      13085.0  United Kingdom  "
      ]
     },
     "execution_count": 3,
     "metadata": {},
     "output_type": "execute_result"
    }
   ],
   "source": [
    "df.head()"
   ]
  },
  {
   "cell_type": "code",
   "execution_count": 4,
   "metadata": {},
   "outputs": [],
   "source": [
    "data = df"
   ]
  },
  {
   "cell_type": "code",
   "execution_count": 5,
   "metadata": {},
   "outputs": [
    {
     "data": {
      "text/plain": [
       "Index(['Invoice', 'StockCode', 'Description', 'Quantity', 'InvoiceDate',\n",
       "       'Price', 'Customer ID', 'Country'],\n",
       "      dtype='object')"
      ]
     },
     "execution_count": 5,
     "metadata": {},
     "output_type": "execute_result"
    }
   ],
   "source": [
    "data.columns"
   ]
  },
  {
   "cell_type": "code",
   "execution_count": 7,
   "metadata": {},
   "outputs": [],
   "source": [
    "\n",
    "# Stripping extra spaces in the description \n",
    "data['Description'] = data['Description'].str.strip() \n",
    "  \n",
    "# Dropping the rows without any invoice number \n",
    "data.dropna(axis = 0, subset =['Invoice'], inplace = True) \n",
    "data['Invoice'] = data['Invoice'].astype('str') \n",
    "  \n",
    "# Dropping all transactions which were done on credit \n",
    "data = data[~data['Invoice'].str.contains('C')] \n"
   ]
  },
  {
   "cell_type": "code",
   "execution_count": 9,
   "metadata": {},
   "outputs": [],
   "source": [
    "basket_UK = (data[data['Country'] ==\"United Kingdom\"] \n",
    "          .groupby(['Invoice', 'Description'])['Quantity'] \n",
    "          .sum().unstack().reset_index().fillna(0) \n",
    "          .set_index('Invoice')) \n",
    "  "
   ]
  },
  {
   "cell_type": "code",
   "execution_count": 10,
   "metadata": {},
   "outputs": [],
   "source": [
    "def hot_encode(x): \n",
    "    if(x<= 0): \n",
    "        return 0\n",
    "    if(x>= 1): \n",
    "        return 1"
   ]
  },
  {
   "cell_type": "code",
   "execution_count": 11,
   "metadata": {},
   "outputs": [],
   "source": [
    "basket_encoded = basket_UK.applymap(hot_encode) \n",
    "basket_UK = basket_encoded "
   ]
  },
  {
   "cell_type": "code",
   "execution_count": 22,
   "metadata": {},
   "outputs": [
    {
     "data": {
      "text/html": [
       "<div>\n",
       "<style scoped>\n",
       "    .dataframe tbody tr th:only-of-type {\n",
       "        vertical-align: middle;\n",
       "    }\n",
       "\n",
       "    .dataframe tbody tr th {\n",
       "        vertical-align: top;\n",
       "    }\n",
       "\n",
       "    .dataframe thead th {\n",
       "        text-align: right;\n",
       "    }\n",
       "</style>\n",
       "<table border=\"1\" class=\"dataframe\">\n",
       "  <thead>\n",
       "    <tr style=\"text-align: right;\">\n",
       "      <th></th>\n",
       "      <th>antecedents</th>\n",
       "      <th>consequents</th>\n",
       "      <th>antecedent support</th>\n",
       "      <th>consequent support</th>\n",
       "      <th>support</th>\n",
       "      <th>confidence</th>\n",
       "      <th>lift</th>\n",
       "      <th>leverage</th>\n",
       "      <th>conviction</th>\n",
       "    </tr>\n",
       "  </thead>\n",
       "  <tbody>\n",
       "    <tr>\n",
       "      <th>2</th>\n",
       "      <td>(SWEETHEART CERAMIC TRINKET BOX)</td>\n",
       "      <td>(STRAWBERRY CERAMIC TRINKET BOX)</td>\n",
       "      <td>0.048747</td>\n",
       "      <td>0.078596</td>\n",
       "      <td>0.038559</td>\n",
       "      <td>0.791014</td>\n",
       "      <td>10.064277</td>\n",
       "      <td>0.034728</td>\n",
       "      <td>4.408917</td>\n",
       "    </tr>\n",
       "    <tr>\n",
       "      <th>1</th>\n",
       "      <td>(RED HANGING HEART T-LIGHT HOLDER)</td>\n",
       "      <td>(WHITE HANGING HEART T-LIGHT HOLDER)</td>\n",
       "      <td>0.051548</td>\n",
       "      <td>0.163254</td>\n",
       "      <td>0.037337</td>\n",
       "      <td>0.724308</td>\n",
       "      <td>4.436699</td>\n",
       "      <td>0.028922</td>\n",
       "      <td>3.035079</td>\n",
       "    </tr>\n",
       "    <tr>\n",
       "      <th>4</th>\n",
       "      <td>(WOODEN PICTURE FRAME WHITE FINISH)</td>\n",
       "      <td>(WOODEN FRAME ANTIQUE WHITE)</td>\n",
       "      <td>0.046811</td>\n",
       "      <td>0.056438</td>\n",
       "      <td>0.030155</td>\n",
       "      <td>0.644178</td>\n",
       "      <td>11.413819</td>\n",
       "      <td>0.027513</td>\n",
       "      <td>2.651783</td>\n",
       "    </tr>\n",
       "    <tr>\n",
       "      <th>5</th>\n",
       "      <td>(WOODEN FRAME ANTIQUE WHITE)</td>\n",
       "      <td>(WOODEN PICTURE FRAME WHITE FINISH)</td>\n",
       "      <td>0.056438</td>\n",
       "      <td>0.046811</td>\n",
       "      <td>0.030155</td>\n",
       "      <td>0.534296</td>\n",
       "      <td>11.413819</td>\n",
       "      <td>0.027513</td>\n",
       "      <td>2.046769</td>\n",
       "    </tr>\n",
       "    <tr>\n",
       "      <th>3</th>\n",
       "      <td>(STRAWBERRY CERAMIC TRINKET BOX)</td>\n",
       "      <td>(SWEETHEART CERAMIC TRINKET BOX)</td>\n",
       "      <td>0.078596</td>\n",
       "      <td>0.048747</td>\n",
       "      <td>0.038559</td>\n",
       "      <td>0.490603</td>\n",
       "      <td>10.064277</td>\n",
       "      <td>0.034728</td>\n",
       "      <td>1.867409</td>\n",
       "    </tr>\n",
       "    <tr>\n",
       "      <th>0</th>\n",
       "      <td>(WHITE HANGING HEART T-LIGHT HOLDER)</td>\n",
       "      <td>(RED HANGING HEART T-LIGHT HOLDER)</td>\n",
       "      <td>0.163254</td>\n",
       "      <td>0.051548</td>\n",
       "      <td>0.037337</td>\n",
       "      <td>0.228705</td>\n",
       "      <td>4.436699</td>\n",
       "      <td>0.028922</td>\n",
       "      <td>1.229687</td>\n",
       "    </tr>\n",
       "  </tbody>\n",
       "</table>\n",
       "</div>"
      ],
      "text/plain": [
       "                            antecedents                           consequents  \\\n",
       "2      (SWEETHEART CERAMIC TRINKET BOX)      (STRAWBERRY CERAMIC TRINKET BOX)   \n",
       "1    (RED HANGING HEART T-LIGHT HOLDER)  (WHITE HANGING HEART T-LIGHT HOLDER)   \n",
       "4   (WOODEN PICTURE FRAME WHITE FINISH)          (WOODEN FRAME ANTIQUE WHITE)   \n",
       "5          (WOODEN FRAME ANTIQUE WHITE)   (WOODEN PICTURE FRAME WHITE FINISH)   \n",
       "3      (STRAWBERRY CERAMIC TRINKET BOX)      (SWEETHEART CERAMIC TRINKET BOX)   \n",
       "0  (WHITE HANGING HEART T-LIGHT HOLDER)    (RED HANGING HEART T-LIGHT HOLDER)   \n",
       "\n",
       "   antecedent support  consequent support   support  confidence       lift  \\\n",
       "2            0.048747            0.078596  0.038559    0.791014  10.064277   \n",
       "1            0.051548            0.163254  0.037337    0.724308   4.436699   \n",
       "4            0.046811            0.056438  0.030155    0.644178  11.413819   \n",
       "5            0.056438            0.046811  0.030155    0.534296  11.413819   \n",
       "3            0.078596            0.048747  0.038559    0.490603  10.064277   \n",
       "0            0.163254            0.051548  0.037337    0.228705   4.436699   \n",
       "\n",
       "   leverage  conviction  \n",
       "2  0.034728    4.408917  \n",
       "1  0.028922    3.035079  \n",
       "4  0.027513    2.651783  \n",
       "5  0.027513    2.046769  \n",
       "3  0.034728    1.867409  \n",
       "0  0.028922    1.229687  "
      ]
     },
     "execution_count": 22,
     "metadata": {},
     "output_type": "execute_result"
    }
   ],
   "source": [
    "\n",
    "# Building the model \n",
    "frq_items = apriori(basket_UK, min_support = 0.03\n",
    "                    , use_colnames = True) \n",
    "  \n",
    "# Collecting the inferred rules in a dataframe \n",
    "rules = association_rules(frq_items, metric =\"lift\", min_threshold = 1) \n",
    "rules = rules.sort_values(['confidence', 'lift'], ascending =[False, False]) \n",
    "rules.head(20)\n"
   ]
  },
  {
   "cell_type": "code",
   "execution_count": 1,
   "metadata": {},
   "outputs": [
    {
     "data": {
      "text/plain": [
       "2"
      ]
     },
     "execution_count": 1,
     "metadata": {},
     "output_type": "execute_result"
    }
   ],
   "source": [
    "\n"
   ]
  }
 ],
 "metadata": {
  "kernelspec": {
   "display_name": "Python 3",
   "language": "python",
   "name": "python3"
  },
  "language_info": {
   "codemirror_mode": {
    "name": "ipython",
    "version": 3
   },
   "file_extension": ".py",
   "mimetype": "text/x-python",
   "name": "python",
   "nbconvert_exporter": "python",
   "pygments_lexer": "ipython3",
   "version": "3.7.6"
  }
 },
 "nbformat": 4,
 "nbformat_minor": 4
}
